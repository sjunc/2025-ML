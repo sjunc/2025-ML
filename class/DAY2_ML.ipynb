{
  "nbformat": 4,
  "nbformat_minor": 0,
  "metadata": {
    "colab": {
      "provenance": [],
      "gpuType": "V28",
      "authorship_tag": "ABX9TyN0OIueHx66CCQUn1YUjggY",
      "include_colab_link": true
    },
    "kernelspec": {
      "name": "python3",
      "display_name": "Python 3"
    },
    "language_info": {
      "name": "python"
    },
    "accelerator": "TPU"
  },
  "cells": [
    {
      "cell_type": "markdown",
      "metadata": {
        "id": "view-in-github",
        "colab_type": "text"
      },
      "source": [
        "<a href=\"https://colab.research.google.com/github/sjunc/2025-ML/blob/main/class/DAY2_ML.ipynb\" target=\"_parent\"><img src=\"https://colab.research.google.com/assets/colab-badge.svg\" alt=\"Open In Colab\"/></a>"
      ]
    },
    {
      "cell_type": "markdown",
      "source": [
        "# Day 2 ML\n",
        "\n"
      ],
      "metadata": {
        "id": "42RhyYaovHlk"
      }
    },
    {
      "cell_type": "markdown",
      "source": [
        "## 머신러닝 Day 1 복습"
      ],
      "metadata": {
        "id": "b-mq748_r7vm"
      }
    },
    {
      "cell_type": "code",
      "execution_count": 14,
      "metadata": {
        "colab": {
          "base_uri": "https://localhost:8080/",
          "height": 676
        },
        "id": "UTYdZGL3pbLS",
        "outputId": "a6f873de-afbb-475b-e0cb-2289b63ce37e"
      },
      "outputs": [
        {
          "output_type": "stream",
          "name": "stderr",
          "text": [
            "/usr/local/lib/python3.11/dist-packages/IPython/core/pylabtools.py:151: UserWarning: Glyph 53469 (\\N{HANGUL SYLLABLE TAEG}) missing from font(s) DejaVu Sans.\n",
            "  fig.canvas.print_figure(bytes_io, **kw)\n",
            "/usr/local/lib/python3.11/dist-packages/IPython/core/pylabtools.py:151: UserWarning: Glyph 49884 (\\N{HANGUL SYLLABLE SI}) missing from font(s) DejaVu Sans.\n",
            "  fig.canvas.print_figure(bytes_io, **kw)\n",
            "/usr/local/lib/python3.11/dist-packages/IPython/core/pylabtools.py:151: UserWarning: Glyph 48708 (\\N{HANGUL SYLLABLE BI}) missing from font(s) DejaVu Sans.\n",
            "  fig.canvas.print_figure(bytes_io, **kw)\n"
          ]
        },
        {
          "output_type": "display_data",
          "data": {
            "text/plain": [
              "<Figure size 640x480 with 1 Axes>"
            ],
            "image/png": "[encoded data removed]"
          },
          "metadata": {}
        },
        {
          "output_type": "stream",
          "name": "stdout",
          "text": [
            "Linear: \n",
            "[326612.89502563]\n",
            "K-NN: \n",
            "[316666.66666667]\n"
          ]
        }
      ],
      "source": [
        "from typing import ValuesView\n",
        "import matplotlib.pyplot as plt\n",
        "import pandas as pd\n",
        "from sklearn.linear_model import LinearRegression\n",
        "from sklearn.neighbors import KNeighborsRegressor\n",
        "\n",
        "taxi = pd.read_csv(\"taxi.csv\")\n",
        "X = taxi[[\"distance\"]].values\n",
        "y = taxi[\"price\"].values\n",
        "\n",
        "taxi.plot(kind = 'scatter', grid = True, x = 'distance', y = 'price', title = '택시비')\n",
        "plt.show()\n",
        "\n",
        "# linear\n",
        "model1 = LinearRegression()\n",
        "model1.fit(X,y)\n",
        "# K-nn\n",
        "model2 = KNeighborsRegressor(n_neighbors = 3)\n",
        "model2.fit(X,y)\n",
        "\n",
        "new_distance = [[35]]\n",
        "print(\"Linear: \")\n",
        "print(model1.predict(new_distance))\n",
        "print(\"K-NN: \")\n",
        "print(model2.predict(new_distance))"
      ]
    },
    {
      "cell_type": "markdown",
      "source": [],
      "metadata": {
        "id": "miJ6cMA813d1"
      }
    }
  ]
}